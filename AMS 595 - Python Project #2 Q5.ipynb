{
 "cells": [
  {
   "cell_type": "code",
   "execution_count": 54,
   "id": "755f5804",
   "metadata": {},
   "outputs": [],
   "source": [
    "import numpy as np\n",
    "import h5py\n",
    "import matplotlib.pyplot as plt\n",
    "import scipy\n",
    "from PIL import Image\n",
    "from scipy import ndimage\n",
    "%matplotlib inline\n",
    "\n",
    "test_dataset = h5py.File('/Users/v/test_catvnoncat.h5', \"r\")\n",
    "train_dataset = h5py.File('/Users/v/train_catvnoncat.h5', \"r\")\n",
    "\n",
    "train_X = np.array(train_dataset[\"train_set_x\"][1:166])\n",
    "train_Y = np.array(train_dataset[\"train_set_y\"][1:166])\n",
    "test_X = np.array(train_dataset[\"train_set_x\"][167:])\n",
    "test_Y = np.array(train_dataset[\"train_set_y\"][167:])\n",
    "classes = np.array(train_dataset[\"list_classes\"][:])\n",
    "\n",
    "train_Y = train_Y.reshape((1, train_Y.shape[0]))\n",
    "test_Y  = test_Y.reshape((1, test_Y.shape[0]))\n",
    "\n",
    "train_X_flat = (train_X.reshape(train_X.shape[0], -1)/255).T\n",
    "test_X_flat = (test_X.reshape(test_X.shape[0], -1)/255).T\n"
   ]
  },
  {
   "cell_type": "code",
   "execution_count": 55,
   "id": "8b31b282",
   "metadata": {},
   "outputs": [],
   "source": [
    "def sigmoid(z):\n",
    "    return 1/(1+np.exp(-z))"
   ]
  },
  {
   "cell_type": "code",
   "execution_count": 56,
   "id": "c3fd8677",
   "metadata": {},
   "outputs": [],
   "source": [
    "def propagate(w, b, X, Y):\n",
    "    m = X.shape[1]\n",
    "\n",
    "    A = sigmoid(np.dot(w.T,X) + b)\n",
    "    cost = np.sum(((- np.log(A))*Y + (-np.log(1-A))*(1-Y)))/m \n",
    "    dw = (np.dot(X,(A-Y).T))/m\n",
    "    db = (np.sum(A-Y))/m\n",
    "\n",
    "    cost = np.squeeze(cost)\n",
    "\n",
    "    return dw, db, cost"
   ]
  },
  {
   "cell_type": "code",
   "execution_count": 57,
   "id": "21614b35",
   "metadata": {},
   "outputs": [
    {
     "name": "stdout",
     "output_type": "stream",
     "text": [
      "[[ 0.01668438]\n",
      " [-0.04412772]\n",
      " [-0.02552509]\n",
      " ...\n",
      " [-0.02337981]\n",
      " [-0.0446268 ]\n",
      " [ 0.05443966]]\n",
      "0.04699355825140062\n"
     ]
    }
   ],
   "source": [
    "X = train_X_flat\n",
    "Y = train_Y\n",
    "dim = train_X_flat.shape[0]\n",
    "w = np.zeros((dim,1))\n",
    "b = 0\n",
    "num_iterations = 10000\n",
    "learning_rate = 0.006\n",
    "record_cost = 50 \n",
    "costs = []\n",
    "\n",
    "for i in range(num_iterations):\n",
    "    dw, db, cost = propagate(w, b, X, Y)\n",
    "\n",
    "    w = w - (learning_rate*dw)\n",
    "    b = b - (learning_rate*db)\n",
    "\n",
    "print(w)\n",
    "print(b)"
   ]
  },
  {
   "cell_type": "code",
   "execution_count": 58,
   "id": "f85002a2",
   "metadata": {},
   "outputs": [
    {
     "name": "stdout",
     "output_type": "stream",
     "text": [
      "train accuracy: 98.127639\n",
      "test accuracy: 50.000000\n"
     ]
    }
   ],
   "source": [
    "A = sigmoid(np.dot(w.T,test_X_flat) + b)\n",
    "Y_predict_test = (A >= 0.5) * 1.0\n",
    "Y_predict_train = sigmoid(np.dot(w.T,X) + b)\n",
    "\n",
    "print(f\"train accuracy: {(100 - np.mean(np.abs(Y_predict_train - train_Y)) * 100):2f}\")\n",
    "print(f\"test accuracy: {(100 - np.mean(np.abs(Y_predict_test - test_Y)) * 100):2f}\")"
   ]
  },
  {
   "cell_type": "code",
   "execution_count": 59,
   "id": "148ccc59",
   "metadata": {},
   "outputs": [],
   "source": [
    "def predict(w, b, X):\n",
    "    \n",
    "    m = X.shape[1]\n",
    "    Y_prediction = np.zeros((1,m))\n",
    "    w = w.reshape(X.shape[0], 1)\n",
    "    A = sigmoid(np.dot((w.T), X) + b)\n",
    "    \n",
    "    for i in range(A.shape[1]):\n",
    "        if(A[0, i] <= 0.5):\n",
    "            Y_prediction[0, i] = 0\n",
    "        else:\n",
    "            Y_prediction[0, i] = 1\n",
    "    \n",
    "    Y_prediction.reshape(1, m)\n",
    "    \n",
    "    return Y_prediction"
   ]
  },
  {
   "cell_type": "code",
   "execution_count": 68,
   "id": "0e9e90cc",
   "metadata": {},
   "outputs": [
    {
     "ename": "ValueError",
     "evalue": "The truth value of an array with more than one element is ambiguous. Use a.any() or a.all()",
     "output_type": "error",
     "traceback": [
      "\u001b[0;31m---------------------------------------------------------------------------\u001b[0m",
      "\u001b[0;31mValueError\u001b[0m                                Traceback (most recent call last)",
      "Input \u001b[0;32mIn [68]\u001b[0m, in \u001b[0;36m<cell line: 4>\u001b[0;34m()\u001b[0m\n\u001b[1;32m      3\u001b[0m wrong_pred \u001b[38;5;241m=\u001b[39m []\n\u001b[1;32m      4\u001b[0m \u001b[38;5;28;01mfor\u001b[39;00m i \u001b[38;5;129;01min\u001b[39;00m \u001b[38;5;28mrange\u001b[39m(\u001b[38;5;28mlen\u001b[39m(train_results)):\n\u001b[0;32m----> 5\u001b[0m     \u001b[38;5;28;01mif\u001b[39;00m train_results[i] \u001b[38;5;241m!=\u001b[39m train_Y[i]:\n\u001b[1;32m      6\u001b[0m         wrong_pred\u001b[38;5;241m.\u001b[39mappend[i]\n\u001b[1;32m      8\u001b[0m \u001b[38;5;28mprint\u001b[39m(wrong_pred)\n",
      "\u001b[0;31mValueError\u001b[0m: The truth value of an array with more than one element is ambiguous. Use a.any() or a.all()"
     ]
    }
   ],
   "source": [
    "train_results = predict(w, b, train_X_flat)\n",
    "\n",
    "wrong_pred = []\n",
    "for i in range(len(train_results)):\n",
    "    if train_results[i] != train_Y[i]:\n",
    "        wrong_pred.append[i]\n",
    "\n",
    "print(wrong_pred)"
   ]
  },
  {
   "cell_type": "code",
   "execution_count": null,
   "id": "0723c4d0",
   "metadata": {},
   "outputs": [],
   "source": []
  },
  {
   "cell_type": "code",
   "execution_count": null,
   "id": "a552aad3",
   "metadata": {},
   "outputs": [],
   "source": []
  }
 ],
 "metadata": {
  "kernelspec": {
   "display_name": "Python 3 (ipykernel)",
   "language": "python",
   "name": "python3"
  },
  "language_info": {
   "codemirror_mode": {
    "name": "ipython",
    "version": 3
   },
   "file_extension": ".py",
   "mimetype": "text/x-python",
   "name": "python",
   "nbconvert_exporter": "python",
   "pygments_lexer": "ipython3",
   "version": "3.9.12"
  }
 },
 "nbformat": 4,
 "nbformat_minor": 5
}
